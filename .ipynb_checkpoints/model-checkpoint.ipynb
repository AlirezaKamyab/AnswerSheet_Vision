{
 "cells": [
  {
   "cell_type": "code",
   "execution_count": 1,
   "id": "daa0e8b9-1e1a-4c2d-bfdc-5f48e9e44fa7",
   "metadata": {},
   "outputs": [],
   "source": [
    "import os\n",
    "os.environ['TF_CPP_MIN_LOG_LEVEL'] = '2'"
   ]
  },
  {
   "cell_type": "code",
   "execution_count": 2,
   "id": "ea3a31a0-9dce-43eb-a817-bc752698b7e7",
   "metadata": {},
   "outputs": [
    {
     "name": "stderr",
     "output_type": "stream",
     "text": [
      "2024-02-02 16:23:26.013193: E external/local_xla/xla/stream_executor/cuda/cuda_dnn.cc:9261] Unable to register cuDNN factory: Attempting to register factory for plugin cuDNN when one has already been registered\n",
      "2024-02-02 16:23:26.013220: E external/local_xla/xla/stream_executor/cuda/cuda_fft.cc:607] Unable to register cuFFT factory: Attempting to register factory for plugin cuFFT when one has already been registered\n",
      "2024-02-02 16:23:26.014084: E external/local_xla/xla/stream_executor/cuda/cuda_blas.cc:1515] Unable to register cuBLAS factory: Attempting to register factory for plugin cuBLAS when one has already been registered\n"
     ]
    }
   ],
   "source": [
    "import matplotlib.pyplot as plt\n",
    "import cv2\n",
    "import numpy as np\n",
    "import math\n",
    "import tensorflow as tf\n",
    "from tensorflow import keras\n",
    "\n",
    "from keras.datasets import mnist\n",
    "\n",
    "tf.config.optimizer.set_jit(True)"
   ]
  },
  {
   "cell_type": "code",
   "execution_count": 3,
   "id": "6b409280-bb0e-47ae-9928-45d25940ebbb",
   "metadata": {},
   "outputs": [],
   "source": [
    "(x_train, y_train), (x_test, y_test) = mnist.load_data()"
   ]
  },
  {
   "cell_type": "code",
   "execution_count": 13,
   "id": "d3e27387-a076-4ab6-b513-738bc33ccf0f",
   "metadata": {},
   "outputs": [],
   "source": [
    "def normalize(img):\n",
    "    img = tf.cast(img, tf.float32)\n",
    "    img = tf.expand_dims(img, axis=-1)\n",
    "    img = img / 255.0\n",
    "    return img\n",
    "\n",
    "keras_aug = tf.keras.Sequential([\n",
    "                                keras.layers.RandomRotation(0.04),\n",
    "                                keras.layers.RandomZoom(0.2, 0.2), \n",
    "                                keras.layers.RandomTranslation(0.15, 0.15, fill_mode='constant')\n",
    "                                ])\n",
    "def augment(img):\n",
    "    img = keras_aug(img)\n",
    "    return img\n",
    "\n",
    "def training_set(img, label):\n",
    "    img = normalize(img)\n",
    "    img = augment(img)\n",
    "    return img, label\n",
    "\n",
    "def test_set(img, label):\n",
    "    img = normalize(img)\n",
    "    return img, label\n"
   ]
  },
  {
   "cell_type": "code",
   "execution_count": 14,
   "id": "add32685-123b-4e32-94f6-fedb4051ab00",
   "metadata": {},
   "outputs": [],
   "source": [
    "SHUFFLE_SIZE = 512\n",
    "BATCH_SIZE = 64\n",
    "AUTOTUNE = tf.data.experimental.AUTOTUNE\n",
    "\n",
    "training = tf.data.Dataset.from_tensor_slices((x_train, y_train))\n",
    "training = training.map(training_set, num_parallel_calls=AUTOTUNE)\n",
    "training = training.shuffle(SHUFFLE_SIZE)\n",
    "training = training.batch(SHUFFLE_SIZE, num_parallel_calls=AUTOTUNE)\n",
    "training = training.prefetch(AUTOTUNE)\n",
    "\n",
    "test = tf.data.Dataset.from_tensor_slices((x_test, y_test))\n",
    "test = test.map(test_set, num_parallel_calls=AUTOTUNE)\n",
    "test = test.shuffle(SHUFFLE_SIZE)\n",
    "test = test.batch(SHUFFLE_SIZE, num_parallel_calls=AUTOTUNE)\n",
    "test = test.prefetch(AUTOTUNE)"
   ]
  },
  {
   "cell_type": "code",
   "execution_count": 21,
   "id": "51bae6df-87a5-48d8-9e52-57ff3d6dccfe",
   "metadata": {},
   "outputs": [
    {
     "name": "stdout",
     "output_type": "stream",
     "text": [
      "tf.Tensor(1, shape=(), dtype=uint8)\n"
     ]
    },
    {
     "data": {
      "image/png": "[encoded data removed]",
      "text/plain": [
       "<Figure size 640x480 with 1 Axes>"
      ]
     },
     "metadata": {},
     "output_type": "display_data"
    }
   ],
   "source": [
    "for img, lbl in training.take(1):\n",
    "    img = img[0]\n",
    "    lbl = lbl[0]\n",
    "    print(lbl)\n",
    "    plt.imshow(img, cmap='gray')"
   ]
  },
  {
   "cell_type": "markdown",
   "id": "e812f656-b37c-4337-9e3d-15593197c207",
   "metadata": {},
   "source": [
    "## Design the model"
   ]
  },
  {
   "cell_type": "code",
   "execution_count": 22,
   "id": "fa3430c7-1eaa-44cb-9af7-c0d8f4c3f030",
   "metadata": {},
   "outputs": [],
   "source": [
    "from keras.layers import Conv2D, BatchNormalization, Activation, MaxPooling2D, GlobalAveragePooling2D, Dropout, Dense, Input\n",
    "from keras.models import Model\n",
    "from keras.layers import Layer"
   ]
  },
  {
   "cell_type": "code",
   "execution_count": 23,
   "id": "bb1b770d-fee3-4d31-a255-a6a262156acf",
   "metadata": {},
   "outputs": [],
   "source": [
    "def ConvBlock(inputs, filters, momentum=0.99):\n",
    "    x = Conv2D(filters=filters, kernel_size=(3, 3), padding='same')(inputs)\n",
    "    x = BatchNormalization(momentum=momentum)(x)\n",
    "    x = Activation('relu')(x)\n",
    "    return x"
   ]
  },
  {
   "cell_type": "code",
   "execution_count": 24,
   "id": "a6996a46-b896-46db-8026-35340475439b",
   "metadata": {},
   "outputs": [],
   "source": [
    "def ResBlock(inputs, filters=[64, 64, 128], momentum=0.99):\n",
    "    x = ConvBlock(inputs, filters[0], momentum=momentum)\n",
    "    x = ConvBlock(x, filters[1], momentum=momentum)\n",
    "    skip_connection = Conv2D(filters=filters[1], kernel_size=(1, 1), padding='same')(inputs)\n",
    "    x = ConvBlock(skip_connection + x, filters=filters[2], momentum=momentum)\n",
    "    x = MaxPooling2D()(x)\n",
    "    return x"
   ]
  },
  {
   "cell_type": "code",
   "execution_count": 25,
   "id": "05605984-90da-4c46-9f77-30ec8a52bb66",
   "metadata": {},
   "outputs": [],
   "source": [
    "def ResNet(input_shape, num_classes, momentum=0.99):\n",
    "    inputs = Input(shape=input_shape)\n",
    "    x = Conv2D(filters=64, kernel_size=(7, 7), padding='same')(inputs)\n",
    "    x = BatchNormalization(momentum=momentum)(x)\n",
    "    x = Activation('relu')(x)\n",
    "    x = MaxPooling2D()(x)\n",
    "\n",
    "    x = ResBlock(x, [64, 64, 128], momentum=momentum)\n",
    "    x = ResBlock(x, [128, 128, 256], momentum=momentum)\n",
    "\n",
    "    x = GlobalAveragePooling2D()(x)\n",
    "    x = Dropout(0.5)(x)\n",
    "    x = Dense(units=num_classes)(x)\n",
    "\n",
    "    return Model(inputs=inputs, outputs=x)"
   ]
  },
  {
   "cell_type": "code",
   "execution_count": 26,
   "id": "8237720c-353d-449d-bebd-807a9777a19b",
   "metadata": {},
   "outputs": [
    {
     "name": "stdout",
     "output_type": "stream",
     "text": [
      "Model: \"model\"\n",
      "__________________________________________________________________________________________________\n",
      " Layer (type)                Output Shape                 Param #   Connected to                  \n",
      "==================================================================================================\n",
      " input_1 (InputLayer)        [(None, 28, 28, 1)]          0         []                            \n",
      "                                                                                                  \n",
      " conv2d (Conv2D)             (None, 28, 28, 64)           3200      ['input_1[0][0]']             \n",
      "                                                                                                  \n",
      " batch_normalization (Batch  (None, 28, 28, 64)           256       ['conv2d[0][0]']              \n",
      " Normalization)                                                                                   \n",
      "                                                                                                  \n",
      " activation (Activation)     (None, 28, 28, 64)           0         ['batch_normalization[0][0]'] \n",
      "                                                                                                  \n",
      " max_pooling2d (MaxPooling2  (None, 14, 14, 64)           0         ['activation[0][0]']          \n",
      " D)                                                                                               \n",
      "                                                                                                  \n",
      " conv2d_1 (Conv2D)           (None, 14, 14, 64)           36928     ['max_pooling2d[0][0]']       \n",
      "                                                                                                  \n",
      " batch_normalization_1 (Bat  (None, 14, 14, 64)           256       ['conv2d_1[0][0]']            \n",
      " chNormalization)                                                                                 \n",
      "                                                                                                  \n",
      " activation_1 (Activation)   (None, 14, 14, 64)           0         ['batch_normalization_1[0][0]'\n",
      "                                                                    ]                             \n",
      "                                                                                                  \n",
      " conv2d_2 (Conv2D)           (None, 14, 14, 64)           36928     ['activation_1[0][0]']        \n",
      "                                                                                                  \n",
      " batch_normalization_2 (Bat  (None, 14, 14, 64)           256       ['conv2d_2[0][0]']            \n",
      " chNormalization)                                                                                 \n",
      "                                                                                                  \n",
      " conv2d_3 (Conv2D)           (None, 14, 14, 64)           4160      ['max_pooling2d[0][0]']       \n",
      "                                                                                                  \n",
      " activation_2 (Activation)   (None, 14, 14, 64)           0         ['batch_normalization_2[0][0]'\n",
      "                                                                    ]                             \n",
      "                                                                                                  \n",
      " tf.__operators__.add (TFOp  (None, 14, 14, 64)           0         ['conv2d_3[0][0]',            \n",
      " Lambda)                                                             'activation_2[0][0]']        \n",
      "                                                                                                  \n",
      " conv2d_4 (Conv2D)           (None, 14, 14, 128)          73856     ['tf.__operators__.add[0][0]']\n",
      "                                                                                                  \n",
      " batch_normalization_3 (Bat  (None, 14, 14, 128)          512       ['conv2d_4[0][0]']            \n",
      " chNormalization)                                                                                 \n",
      "                                                                                                  \n",
      " activation_3 (Activation)   (None, 14, 14, 128)          0         ['batch_normalization_3[0][0]'\n",
      "                                                                    ]                             \n",
      "                                                                                                  \n",
      " max_pooling2d_1 (MaxPoolin  (None, 7, 7, 128)            0         ['activation_3[0][0]']        \n",
      " g2D)                                                                                             \n",
      "                                                                                                  \n",
      " conv2d_5 (Conv2D)           (None, 7, 7, 128)            147584    ['max_pooling2d_1[0][0]']     \n",
      "                                                                                                  \n",
      " batch_normalization_4 (Bat  (None, 7, 7, 128)            512       ['conv2d_5[0][0]']            \n",
      " chNormalization)                                                                                 \n",
      "                                                                                                  \n",
      " activation_4 (Activation)   (None, 7, 7, 128)            0         ['batch_normalization_4[0][0]'\n",
      "                                                                    ]                             \n",
      "                                                                                                  \n",
      " conv2d_6 (Conv2D)           (None, 7, 7, 128)            147584    ['activation_4[0][0]']        \n",
      "                                                                                                  \n",
      " batch_normalization_5 (Bat  (None, 7, 7, 128)            512       ['conv2d_6[0][0]']            \n",
      " chNormalization)                                                                                 \n",
      "                                                                                                  \n",
      " conv2d_7 (Conv2D)           (None, 7, 7, 128)            16512     ['max_pooling2d_1[0][0]']     \n",
      "                                                                                                  \n",
      " activation_5 (Activation)   (None, 7, 7, 128)            0         ['batch_normalization_5[0][0]'\n",
      "                                                                    ]                             \n",
      "                                                                                                  \n",
      " tf.__operators__.add_1 (TF  (None, 7, 7, 128)            0         ['conv2d_7[0][0]',            \n",
      " OpLambda)                                                           'activation_5[0][0]']        \n",
      "                                                                                                  \n",
      " conv2d_8 (Conv2D)           (None, 7, 7, 256)            295168    ['tf.__operators__.add_1[0][0]\n",
      "                                                                    ']                            \n",
      "                                                                                                  \n",
      " batch_normalization_6 (Bat  (None, 7, 7, 256)            1024      ['conv2d_8[0][0]']            \n",
      " chNormalization)                                                                                 \n",
      "                                                                                                  \n",
      " activation_6 (Activation)   (None, 7, 7, 256)            0         ['batch_normalization_6[0][0]'\n",
      "                                                                    ]                             \n",
      "                                                                                                  \n",
      " max_pooling2d_2 (MaxPoolin  (None, 3, 3, 256)            0         ['activation_6[0][0]']        \n",
      " g2D)                                                                                             \n",
      "                                                                                                  \n",
      " global_average_pooling2d (  (None, 256)                  0         ['max_pooling2d_2[0][0]']     \n",
      " GlobalAveragePooling2D)                                                                          \n",
      "                                                                                                  \n",
      " dropout (Dropout)           (None, 256)                  0         ['global_average_pooling2d[0][\n",
      "                                                                    0]']                          \n",
      "                                                                                                  \n",
      " dense (Dense)               (None, 10)                   2570      ['dropout[0][0]']             \n",
      "                                                                                                  \n",
      "==================================================================================================\n",
      "Total params: 767818 (2.93 MB)\n",
      "Trainable params: 766154 (2.92 MB)\n",
      "Non-trainable params: 1664 (6.50 KB)\n",
      "__________________________________________________________________________________________________\n"
     ]
    }
   ],
   "source": [
    "model = ResNet((28, 28, 1), 10, momentum=0.6)\n",
    "model.summary()\n",
    "model.compile(\n",
    "    loss=keras.losses.SparseCategoricalCrossentropy(from_logits=True), \n",
    "    optimizer=keras.optimizers.Adam(learning_rate=1e-4),\n",
    "    metrics=['accuracy']\n",
    ")"
   ]
  },
  {
   "cell_type": "code",
   "execution_count": 27,
   "id": "d5bfe581-4fbd-4e33-9658-b89b5f03ddac",
   "metadata": {},
   "outputs": [
    {
     "name": "stdout",
     "output_type": "stream",
     "text": [
      "Epoch 1/30\n",
      "118/118 [==============================] - 27s 114ms/step - loss: 1.0799 - accuracy: 0.6558 - val_loss: 0.1676 - val_accuracy: 0.9491\n",
      "Epoch 2/30\n",
      "118/118 [==============================] - 17s 145ms/step - loss: 0.2158 - accuracy: 0.9365 - val_loss: 0.0786 - val_accuracy: 0.9754\n",
      "Epoch 3/30\n",
      "118/118 [==============================] - 12s 97ms/step - loss: 0.1336 - accuracy: 0.9613 - val_loss: 0.0655 - val_accuracy: 0.9793\n",
      "Epoch 4/30\n",
      "118/118 [==============================] - 12s 97ms/step - loss: 0.0991 - accuracy: 0.9714 - val_loss: 0.0713 - val_accuracy: 0.9778\n",
      "Epoch 5/30\n",
      "118/118 [==============================] - 12s 97ms/step - loss: 0.0835 - accuracy: 0.9753 - val_loss: 0.0523 - val_accuracy: 0.9815\n",
      "Epoch 6/30\n",
      "118/118 [==============================] - 12s 97ms/step - loss: 0.0690 - accuracy: 0.9792 - val_loss: 0.0421 - val_accuracy: 0.9866\n",
      "Epoch 7/30\n",
      "118/118 [==============================] - 12s 97ms/step - loss: 0.0631 - accuracy: 0.9817 - val_loss: 0.0789 - val_accuracy: 0.9735\n",
      "Epoch 8/30\n",
      "118/118 [==============================] - 12s 98ms/step - loss: 0.0573 - accuracy: 0.9829 - val_loss: 0.0614 - val_accuracy: 0.9795\n",
      "Epoch 9/30\n",
      "118/118 [==============================] - 12s 98ms/step - loss: 0.0539 - accuracy: 0.9839 - val_loss: 0.0487 - val_accuracy: 0.9840\n",
      "Epoch 10/30\n",
      "118/118 [==============================] - 12s 97ms/step - loss: 0.0489 - accuracy: 0.9854 - val_loss: 0.0299 - val_accuracy: 0.9906\n",
      "Epoch 11/30\n",
      "118/118 [==============================] - 12s 97ms/step - loss: 0.0445 - accuracy: 0.9872 - val_loss: 0.0470 - val_accuracy: 0.9845\n",
      "Epoch 12/30\n",
      "118/118 [==============================] - 12s 97ms/step - loss: 0.0451 - accuracy: 0.9861 - val_loss: 0.0511 - val_accuracy: 0.9835\n",
      "Epoch 13/30\n",
      "118/118 [==============================] - 12s 98ms/step - loss: 0.0435 - accuracy: 0.9872 - val_loss: 0.0459 - val_accuracy: 0.9847\n",
      "Epoch 14/30\n",
      "118/118 [==============================] - 12s 98ms/step - loss: 0.0422 - accuracy: 0.9869 - val_loss: 0.0348 - val_accuracy: 0.9881\n",
      "Epoch 15/30\n",
      "118/118 [==============================] - 12s 100ms/step - loss: 0.0379 - accuracy: 0.9888 - val_loss: 0.0383 - val_accuracy: 0.9857\n",
      "Epoch 16/30\n",
      "118/118 [==============================] - 12s 98ms/step - loss: 0.0374 - accuracy: 0.9888 - val_loss: 0.0415 - val_accuracy: 0.9857\n",
      "Epoch 17/30\n",
      "118/118 [==============================] - 12s 97ms/step - loss: 0.0360 - accuracy: 0.9892 - val_loss: 0.0480 - val_accuracy: 0.9844\n",
      "Epoch 18/30\n",
      "118/118 [==============================] - 12s 97ms/step - loss: 0.0327 - accuracy: 0.9904 - val_loss: 0.0303 - val_accuracy: 0.9889\n",
      "Epoch 19/30\n",
      "118/118 [==============================] - 12s 97ms/step - loss: 0.0326 - accuracy: 0.9899 - val_loss: 0.0245 - val_accuracy: 0.9918\n",
      "Epoch 20/30\n",
      "118/118 [==============================] - 12s 97ms/step - loss: 0.0303 - accuracy: 0.9905 - val_loss: 0.0275 - val_accuracy: 0.9905\n",
      "Epoch 21/30\n",
      "118/118 [==============================] - 12s 99ms/step - loss: 0.0304 - accuracy: 0.9907 - val_loss: 0.0345 - val_accuracy: 0.9889\n",
      "Epoch 22/30\n",
      "118/118 [==============================] - 12s 98ms/step - loss: 0.0296 - accuracy: 0.9908 - val_loss: 0.0417 - val_accuracy: 0.9854\n",
      "Epoch 23/30\n",
      "118/118 [==============================] - 12s 97ms/step - loss: 0.0287 - accuracy: 0.9912 - val_loss: 0.0315 - val_accuracy: 0.9901\n",
      "Epoch 24/30\n",
      "118/118 [==============================] - 12s 98ms/step - loss: 0.0279 - accuracy: 0.9915 - val_loss: 0.0262 - val_accuracy: 0.9907\n",
      "Epoch 25/30\n",
      "118/118 [==============================] - 12s 98ms/step - loss: 0.0265 - accuracy: 0.9921 - val_loss: 0.0383 - val_accuracy: 0.9869\n",
      "Epoch 26/30\n",
      "118/118 [==============================] - 12s 97ms/step - loss: 0.0275 - accuracy: 0.9911 - val_loss: 0.0293 - val_accuracy: 0.9902\n",
      "Epoch 27/30\n",
      "118/118 [==============================] - 12s 99ms/step - loss: 0.0259 - accuracy: 0.9920 - val_loss: 0.0330 - val_accuracy: 0.9895\n",
      "Epoch 28/30\n",
      "118/118 [==============================] - 12s 98ms/step - loss: 0.0255 - accuracy: 0.9922 - val_loss: 0.0250 - val_accuracy: 0.9916\n",
      "Epoch 29/30\n",
      "118/118 [==============================] - 12s 97ms/step - loss: 0.0239 - accuracy: 0.9929 - val_loss: 0.0225 - val_accuracy: 0.9916\n",
      "Epoch 30/30\n",
      "118/118 [==============================] - 12s 100ms/step - loss: 0.0244 - accuracy: 0.9927 - val_loss: 0.0326 - val_accuracy: 0.9892\n"
     ]
    }
   ],
   "source": [
    "history = model.fit(\n",
    "    training,\n",
    "    epochs=30,\n",
    "    validation_data=test\n",
    ")"
   ]
  },
  {
   "cell_type": "code",
   "execution_count": 28,
   "id": "bc568474-693f-449c-8578-2b3e49d1a7bd",
   "metadata": {},
   "outputs": [
    {
     "name": "stdout",
     "output_type": "stream",
     "text": [
      "INFO:tensorflow:Assets written to: save4.tf/assets\n"
     ]
    },
    {
     "name": "stderr",
     "output_type": "stream",
     "text": [
      "INFO:tensorflow:Assets written to: save4.tf/assets\n"
     ]
    }
   ],
   "source": [
    "model.save('save4.tf')"
   ]
  },
  {
   "cell_type": "code",
   "execution_count": null,
   "id": "aeee4a1c-448c-4b57-b7dc-d948fe239f09",
   "metadata": {},
   "outputs": [],
   "source": []
  }
 ],
 "metadata": {
  "kernelspec": {
   "display_name": "Python 3 (ipykernel)",
   "language": "python",
   "name": "python3"
  },
  "language_info": {
   "codemirror_mode": {
    "name": "ipython",
    "version": 3
   },
   "file_extension": ".py",
   "mimetype": "text/x-python",
   "name": "python",
   "nbconvert_exporter": "python",
   "pygments_lexer": "ipython3",
   "version": "3.11.5"
  }
 },
 "nbformat": 4,
 "nbformat_minor": 5
}
