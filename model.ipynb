{
 "cells": [
  {
   "cell_type": "code",
   "execution_count": 1,
   "id": "daa0e8b9-1e1a-4c2d-bfdc-5f48e9e44fa7",
   "metadata": {},
   "outputs": [],
   "source": [
    "import os\n",
    "os.environ['TF_CPP_MIN_LOG_LEVEL'] = '2'"
   ]
  },
  {
   "cell_type": "code",
   "execution_count": 2,
   "id": "ea3a31a0-9dce-43eb-a817-bc752698b7e7",
   "metadata": {},
   "outputs": [
    {
     "name": "stderr",
     "output_type": "stream",
     "text": [
      "2024-02-02 00:59:37.117945: E external/local_xla/xla/stream_executor/cuda/cuda_dnn.cc:9261] Unable to register cuDNN factory: Attempting to register factory for plugin cuDNN when one has already been registered\n",
      "2024-02-02 00:59:37.117971: E external/local_xla/xla/stream_executor/cuda/cuda_fft.cc:607] Unable to register cuFFT factory: Attempting to register factory for plugin cuFFT when one has already been registered\n",
      "2024-02-02 00:59:37.118825: E external/local_xla/xla/stream_executor/cuda/cuda_blas.cc:1515] Unable to register cuBLAS factory: Attempting to register factory for plugin cuBLAS when one has already been registered\n"
     ]
    }
   ],
   "source": [
    "import matplotlib.pyplot as plt\n",
    "import cv2\n",
    "import numpy as np\n",
    "import math\n",
    "import tensorflow as tf\n",
    "from tensorflow import keras\n",
    "\n",
    "from keras.datasets import mnist\n",
    "\n",
    "tf.config.optimizer.set_jit(True)"
   ]
  },
  {
   "cell_type": "code",
   "execution_count": 3,
   "id": "6b409280-bb0e-47ae-9928-45d25940ebbb",
   "metadata": {},
   "outputs": [],
   "source": [
    "(x_train, y_train), (x_test, y_test) = mnist.load_data()"
   ]
  },
  {
   "cell_type": "code",
   "execution_count": 6,
   "id": "d3e27387-a076-4ab6-b513-738bc33ccf0f",
   "metadata": {},
   "outputs": [],
   "source": [
    "def normalize(img):\n",
    "    img = tf.cast(img, tf.float32)\n",
    "    img = tf.expand_dims(img, axis=-1)\n",
    "    img = img / 255.0\n",
    "    return img\n",
    "\n",
    "keras_aug = tf.keras.Sequential([keras.layers.RandomRotation(0.10),\n",
    "                                keras.layers.RandomZoom(0.2, 0.2),\n",
    "                                keras.layers.RandomTranslation(0.15, 0.15)\n",
    "                                ])\n",
    "def augment(img):\n",
    "    img = keras_aug(img)\n",
    "    return img\n",
    "\n",
    "def training_set(img, label):\n",
    "    img = normalize(img)\n",
    "    #img = augment(img)\n",
    "    return img, label\n",
    "\n",
    "def test_set(img, label):\n",
    "    img = normalize(img)\n",
    "    return img, label\n"
   ]
  },
  {
   "cell_type": "code",
   "execution_count": 7,
   "id": "add32685-123b-4e32-94f6-fedb4051ab00",
   "metadata": {},
   "outputs": [],
   "source": [
    "SHUFFLE_SIZE = 512\n",
    "BATCH_SIZE = 64\n",
    "AUTOTUNE = tf.data.experimental.AUTOTUNE\n",
    "\n",
    "training = tf.data.Dataset.from_tensor_slices((x_train, y_train))\n",
    "training = training.map(training_set, num_parallel_calls=AUTOTUNE)\n",
    "training = training.shuffle(SHUFFLE_SIZE)\n",
    "training = training.batch(SHUFFLE_SIZE, num_parallel_calls=AUTOTUNE)\n",
    "training = training.prefetch(AUTOTUNE)\n",
    "\n",
    "test = tf.data.Dataset.from_tensor_slices((x_test, y_test))\n",
    "test = test.map(test_set, num_parallel_calls=AUTOTUNE)\n",
    "test = test.shuffle(SHUFFLE_SIZE)\n",
    "test = test.batch(SHUFFLE_SIZE, num_parallel_calls=AUTOTUNE)\n",
    "test = test.prefetch(AUTOTUNE)"
   ]
  },
  {
   "cell_type": "markdown",
   "id": "e812f656-b37c-4337-9e3d-15593197c207",
   "metadata": {},
   "source": [
    "## Design the model"
   ]
  },
  {
   "cell_type": "code",
   "execution_count": 8,
   "id": "fa3430c7-1eaa-44cb-9af7-c0d8f4c3f030",
   "metadata": {},
   "outputs": [],
   "source": [
    "from keras.layers import Conv2D, BatchNormalization, Activation, MaxPooling2D, GlobalAveragePooling2D, Dropout, Dense, Input\n",
    "from keras.models import Model\n",
    "from keras.layers import Layer"
   ]
  },
  {
   "cell_type": "code",
   "execution_count": 9,
   "id": "bb1b770d-fee3-4d31-a255-a6a262156acf",
   "metadata": {},
   "outputs": [],
   "source": [
    "def ConvBlock(inputs, filters, momentum=0.99):\n",
    "    x = Conv2D(filters=filters, kernel_size=(3, 3), padding='same')(inputs)\n",
    "    x = BatchNormalization(momentum=momentum)(x)\n",
    "    x = Activation('relu')(x)\n",
    "    return x"
   ]
  },
  {
   "cell_type": "code",
   "execution_count": 10,
   "id": "a6996a46-b896-46db-8026-35340475439b",
   "metadata": {},
   "outputs": [],
   "source": [
    "def ResBlock(inputs, filters=[64, 64, 128], momentum=0.99):\n",
    "    x = ConvBlock(inputs, filters[0], momentum=momentum)\n",
    "    x = ConvBlock(x, filters[1], momentum=momentum)\n",
    "    skip_connection = Conv2D(filters=filters[1], kernel_size=(1, 1), padding='same')(inputs)\n",
    "    x = ConvBlock(skip_connection + x, filters=filters[2], momentum=momentum)\n",
    "    x = MaxPooling2D()(x)\n",
    "    return x"
   ]
  },
  {
   "cell_type": "code",
   "execution_count": 11,
   "id": "05605984-90da-4c46-9f77-30ec8a52bb66",
   "metadata": {},
   "outputs": [],
   "source": [
    "def ResNet(input_shape, num_classes, momentum=0.99):\n",
    "    inputs = Input(shape=input_shape)\n",
    "    x = Conv2D(filters=64, kernel_size=(7, 7), padding='same')(inputs)\n",
    "    x = BatchNormalization(momentum=momentum)(x)\n",
    "    x = Activation('relu')(x)\n",
    "    x = MaxPooling2D()(x)\n",
    "\n",
    "    x = ResBlock(x, [64, 64, 128], momentum=momentum)\n",
    "    x = ResBlock(x, [128, 128, 256], momentum=momentum)\n",
    "\n",
    "    x = GlobalAveragePooling2D()(x)\n",
    "    x = Dropout(0.5)(x)\n",
    "    x = Dense(units=num_classes)(x)\n",
    "\n",
    "    return Model(inputs=inputs, outputs=x)"
   ]
  },
  {
   "cell_type": "code",
   "execution_count": 12,
   "id": "8237720c-353d-449d-bebd-807a9777a19b",
   "metadata": {},
   "outputs": [
    {
     "name": "stdout",
     "output_type": "stream",
     "text": [
      "Model: \"model\"\n",
      "__________________________________________________________________________________________________\n",
      " Layer (type)                Output Shape                 Param #   Connected to                  \n",
      "==================================================================================================\n",
      " input_1 (InputLayer)        [(None, 28, 28, 1)]          0         []                            \n",
      "                                                                                                  \n",
      " conv2d (Conv2D)             (None, 28, 28, 64)           3200      ['input_1[0][0]']             \n",
      "                                                                                                  \n",
      " batch_normalization (Batch  (None, 28, 28, 64)           256       ['conv2d[0][0]']              \n",
      " Normalization)                                                                                   \n",
      "                                                                                                  \n",
      " activation (Activation)     (None, 28, 28, 64)           0         ['batch_normalization[0][0]'] \n",
      "                                                                                                  \n",
      " max_pooling2d (MaxPooling2  (None, 14, 14, 64)           0         ['activation[0][0]']          \n",
      " D)                                                                                               \n",
      "                                                                                                  \n",
      " conv2d_1 (Conv2D)           (None, 14, 14, 64)           36928     ['max_pooling2d[0][0]']       \n",
      "                                                                                                  \n",
      " batch_normalization_1 (Bat  (None, 14, 14, 64)           256       ['conv2d_1[0][0]']            \n",
      " chNormalization)                                                                                 \n",
      "                                                                                                  \n",
      " activation_1 (Activation)   (None, 14, 14, 64)           0         ['batch_normalization_1[0][0]'\n",
      "                                                                    ]                             \n",
      "                                                                                                  \n",
      " conv2d_2 (Conv2D)           (None, 14, 14, 64)           36928     ['activation_1[0][0]']        \n",
      "                                                                                                  \n",
      " batch_normalization_2 (Bat  (None, 14, 14, 64)           256       ['conv2d_2[0][0]']            \n",
      " chNormalization)                                                                                 \n",
      "                                                                                                  \n",
      " conv2d_3 (Conv2D)           (None, 14, 14, 64)           4160      ['max_pooling2d[0][0]']       \n",
      "                                                                                                  \n",
      " activation_2 (Activation)   (None, 14, 14, 64)           0         ['batch_normalization_2[0][0]'\n",
      "                                                                    ]                             \n",
      "                                                                                                  \n",
      " tf.__operators__.add (TFOp  (None, 14, 14, 64)           0         ['conv2d_3[0][0]',            \n",
      " Lambda)                                                             'activation_2[0][0]']        \n",
      "                                                                                                  \n",
      " conv2d_4 (Conv2D)           (None, 14, 14, 128)          73856     ['tf.__operators__.add[0][0]']\n",
      "                                                                                                  \n",
      " batch_normalization_3 (Bat  (None, 14, 14, 128)          512       ['conv2d_4[0][0]']            \n",
      " chNormalization)                                                                                 \n",
      "                                                                                                  \n",
      " activation_3 (Activation)   (None, 14, 14, 128)          0         ['batch_normalization_3[0][0]'\n",
      "                                                                    ]                             \n",
      "                                                                                                  \n",
      " max_pooling2d_1 (MaxPoolin  (None, 7, 7, 128)            0         ['activation_3[0][0]']        \n",
      " g2D)                                                                                             \n",
      "                                                                                                  \n",
      " conv2d_5 (Conv2D)           (None, 7, 7, 128)            147584    ['max_pooling2d_1[0][0]']     \n",
      "                                                                                                  \n",
      " batch_normalization_4 (Bat  (None, 7, 7, 128)            512       ['conv2d_5[0][0]']            \n",
      " chNormalization)                                                                                 \n",
      "                                                                                                  \n",
      " activation_4 (Activation)   (None, 7, 7, 128)            0         ['batch_normalization_4[0][0]'\n",
      "                                                                    ]                             \n",
      "                                                                                                  \n",
      " conv2d_6 (Conv2D)           (None, 7, 7, 128)            147584    ['activation_4[0][0]']        \n",
      "                                                                                                  \n",
      " batch_normalization_5 (Bat  (None, 7, 7, 128)            512       ['conv2d_6[0][0]']            \n",
      " chNormalization)                                                                                 \n",
      "                                                                                                  \n",
      " conv2d_7 (Conv2D)           (None, 7, 7, 128)            16512     ['max_pooling2d_1[0][0]']     \n",
      "                                                                                                  \n",
      " activation_5 (Activation)   (None, 7, 7, 128)            0         ['batch_normalization_5[0][0]'\n",
      "                                                                    ]                             \n",
      "                                                                                                  \n",
      " tf.__operators__.add_1 (TF  (None, 7, 7, 128)            0         ['conv2d_7[0][0]',            \n",
      " OpLambda)                                                           'activation_5[0][0]']        \n",
      "                                                                                                  \n",
      " conv2d_8 (Conv2D)           (None, 7, 7, 256)            295168    ['tf.__operators__.add_1[0][0]\n",
      "                                                                    ']                            \n",
      "                                                                                                  \n",
      " batch_normalization_6 (Bat  (None, 7, 7, 256)            1024      ['conv2d_8[0][0]']            \n",
      " chNormalization)                                                                                 \n",
      "                                                                                                  \n",
      " activation_6 (Activation)   (None, 7, 7, 256)            0         ['batch_normalization_6[0][0]'\n",
      "                                                                    ]                             \n",
      "                                                                                                  \n",
      " max_pooling2d_2 (MaxPoolin  (None, 3, 3, 256)            0         ['activation_6[0][0]']        \n",
      " g2D)                                                                                             \n",
      "                                                                                                  \n",
      " global_average_pooling2d (  (None, 256)                  0         ['max_pooling2d_2[0][0]']     \n",
      " GlobalAveragePooling2D)                                                                          \n",
      "                                                                                                  \n",
      " dropout (Dropout)           (None, 256)                  0         ['global_average_pooling2d[0][\n",
      "                                                                    0]']                          \n",
      "                                                                                                  \n",
      " dense (Dense)               (None, 10)                   2570      ['dropout[0][0]']             \n",
      "                                                                                                  \n",
      "==================================================================================================\n",
      "Total params: 767818 (2.93 MB)\n",
      "Trainable params: 766154 (2.92 MB)\n",
      "Non-trainable params: 1664 (6.50 KB)\n",
      "__________________________________________________________________________________________________\n"
     ]
    }
   ],
   "source": [
    "model = ResNet((28, 28, 1), 10, momentum=0.6)\n",
    "model.summary()\n",
    "model.compile(\n",
    "    loss=keras.losses.SparseCategoricalCrossentropy(from_logits=True), \n",
    "    optimizer=keras.optimizers.Adam(learning_rate=1e-4),\n",
    "    metrics=['accuracy']\n",
    ")"
   ]
  },
  {
   "cell_type": "code",
   "execution_count": 13,
   "id": "d5bfe581-4fbd-4e33-9658-b89b5f03ddac",
   "metadata": {},
   "outputs": [
    {
     "name": "stdout",
     "output_type": "stream",
     "text": [
      "Epoch 1/10\n"
     ]
    },
    {
     "name": "stderr",
     "output_type": "stream",
     "text": [
      "WARNING: All log messages before absl::InitializeLog() is called are written to STDERR\n",
      "I0000 00:00:1706823000.537611   58341 device_compiler.h:186] Compiled cluster using XLA!  This line is logged at most once for the lifetime of the process.\n"
     ]
    },
    {
     "name": "stdout",
     "output_type": "stream",
     "text": [
      "118/118 [==============================] - 23s 76ms/step - loss: 0.9153 - accuracy: 0.7139 - val_loss: 0.1263 - val_accuracy: 0.9683\n",
      "Epoch 2/10\n",
      "118/118 [==============================] - 12s 99ms/step - loss: 0.1566 - accuracy: 0.9553 - val_loss: 0.0669 - val_accuracy: 0.9790\n",
      "Epoch 3/10\n",
      "118/118 [==============================] - 6s 51ms/step - loss: 0.0936 - accuracy: 0.9728 - val_loss: 0.0463 - val_accuracy: 0.9861\n",
      "Epoch 4/10\n",
      "118/118 [==============================] - 6s 51ms/step - loss: 0.0648 - accuracy: 0.9813 - val_loss: 0.0445 - val_accuracy: 0.9857\n",
      "Epoch 5/10\n",
      "118/118 [==============================] - 6s 51ms/step - loss: 0.0491 - accuracy: 0.9857 - val_loss: 0.0389 - val_accuracy: 0.9877\n",
      "Epoch 6/10\n",
      "118/118 [==============================] - 6s 51ms/step - loss: 0.0407 - accuracy: 0.9880 - val_loss: 0.0410 - val_accuracy: 0.9867\n",
      "Epoch 7/10\n",
      "118/118 [==============================] - 6s 51ms/step - loss: 0.0316 - accuracy: 0.9908 - val_loss: 0.0392 - val_accuracy: 0.9863\n",
      "Epoch 8/10\n",
      "118/118 [==============================] - 6s 51ms/step - loss: 0.0264 - accuracy: 0.9925 - val_loss: 0.0257 - val_accuracy: 0.9909\n",
      "Epoch 9/10\n",
      "118/118 [==============================] - 6s 52ms/step - loss: 0.0226 - accuracy: 0.9935 - val_loss: 0.0245 - val_accuracy: 0.9914\n",
      "Epoch 10/10\n",
      "118/118 [==============================] - 6s 51ms/step - loss: 0.0188 - accuracy: 0.9947 - val_loss: 0.0261 - val_accuracy: 0.9915\n"
     ]
    }
   ],
   "source": [
    "history = model.fit(\n",
    "    training,\n",
    "    epochs=10,\n",
    "    validation_data=test\n",
    ")"
   ]
  },
  {
   "cell_type": "code",
   "execution_count": 14,
   "id": "bc568474-693f-449c-8578-2b3e49d1a7bd",
   "metadata": {},
   "outputs": [
    {
     "name": "stdout",
     "output_type": "stream",
     "text": [
      "INFO:tensorflow:Assets written to: save.tf/assets\n"
     ]
    },
    {
     "name": "stderr",
     "output_type": "stream",
     "text": [
      "INFO:tensorflow:Assets written to: save.tf/assets\n"
     ]
    }
   ],
   "source": [
    "model.save('save.tf')"
   ]
  },
  {
   "cell_type": "code",
   "execution_count": null,
   "id": "aeee4a1c-448c-4b57-b7dc-d948fe239f09",
   "metadata": {},
   "outputs": [],
   "source": []
  }
 ],
 "metadata": {
  "kernelspec": {
   "display_name": "Python 3 (ipykernel)",
   "language": "python",
   "name": "python3"
  },
  "language_info": {
   "codemirror_mode": {
    "name": "ipython",
    "version": 3
   },
   "file_extension": ".py",
   "mimetype": "text/x-python",
   "name": "python",
   "nbconvert_exporter": "python",
   "pygments_lexer": "ipython3",
   "version": "3.11.5"
  }
 },
 "nbformat": 4,
 "nbformat_minor": 5
}
